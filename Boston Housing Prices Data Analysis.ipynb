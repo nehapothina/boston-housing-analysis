{
 "cells": [
  {
   "cell_type": "markdown",
   "metadata": {},
   "source": [
    "# Boston Housing Prices Data Analysis\n",
    "\n"
   ]
  },
  {
   "cell_type": "code",
   "execution_count": 18,
   "metadata": {
    "collapsed": true
   },
   "outputs": [],
   "source": [
    "import IPython\n",
    "import numpy as np\n",
    "import scipy as sp\n",
    "import pandas as pd\n",
    "import matplotlib\n",
    "import sklearn"
   ]
  },
  {
   "cell_type": "markdown",
   "metadata": {},
   "source": [
    "---\n",
    "\n",
    "# Introduction to the dataset\n",
    "\n",
    "For this analysis, I will be using the Boston Housing Prices Data Set.  This used to be housed by [UCI Machine Learning Repository](http://archive.ics.uci.edu/ml/datasets/Housing), but it is not housed there any more. You can read about it at [Kaggle](https://www.kaggle.com/vikrishnan/boston-house-prices) and at the [University of Toronto](https://www.cs.toronto.edu/~delve/data/boston/bostonDetail.html).\n"
   ]
  },
  {
   "cell_type": "code",
   "execution_count": 19,
   "metadata": {
    "collapsed": true
   },
   "outputs": [],
   "source": [
    "from sklearn.datasets import load_boston\n",
    "bdata = load_boston()"
   ]
  },
  {
   "cell_type": "markdown",
   "metadata": {},
   "source": [
    "The following commands will provide some basic information about the shape of the data:"
   ]
  },
  {
   "cell_type": "code",
   "execution_count": 20,
   "metadata": {},
   "outputs": [
    {
     "name": "stdout",
     "output_type": "stream",
     "text": [
      "dict_keys(['data', 'target', 'feature_names', 'DESCR'])\n",
      "['CRIM' 'ZN' 'INDUS' 'CHAS' 'NOX' 'RM' 'AGE' 'DIS' 'RAD' 'TAX' 'PTRATIO'\n",
      " 'B' 'LSTAT']\n",
      "(506, 13)\n",
      "(506,)\n",
      "Boston House Prices dataset\n",
      "===========================\n",
      "\n",
      "Notes\n",
      "------\n",
      "Data Set Characteristics:  \n",
      "\n",
      "    :Number of Instances: 506 \n",
      "\n",
      "    :Number of Attributes: 13 numeric/categorical predictive\n",
      "    \n",
      "    :Median Value (attribute 14) is usually the target\n",
      "\n",
      "    :Attribute Information (in order):\n",
      "        - CRIM     per capita crime rate by town\n",
      "        - ZN       proportion of residential land zoned for lots over 25,000 sq.ft.\n",
      "        - INDUS    proportion of non-retail business acres per town\n",
      "        - CHAS     Charles River dummy variable (= 1 if tract bounds river; 0 otherwise)\n",
      "        - NOX      nitric oxides concentration (parts per 10 million)\n",
      "        - RM       average number of rooms per dwelling\n",
      "        - AGE      proportion of owner-occupied units built prior to 1940\n",
      "        - DIS      weighted distances to five Boston employment centres\n",
      "        - RAD      index of accessibility to radial highways\n",
      "        - TAX      full-value property-tax rate per $10,000\n",
      "        - PTRATIO  pupil-teacher ratio by town\n",
      "        - B        1000(Bk - 0.63)^2 where Bk is the proportion of blacks by town\n",
      "        - LSTAT    % lower status of the population\n",
      "        - MEDV     Median value of owner-occupied homes in $1000's\n",
      "\n",
      "    :Missing Attribute Values: None\n",
      "\n",
      "    :Creator: Harrison, D. and Rubinfeld, D.L.\n",
      "\n",
      "This is a copy of UCI ML housing dataset.\n",
      "http://archive.ics.uci.edu/ml/datasets/Housing\n",
      "\n",
      "\n",
      "This dataset was taken from the StatLib library which is maintained at Carnegie Mellon University.\n",
      "\n",
      "The Boston house-price data of Harrison, D. and Rubinfeld, D.L. 'Hedonic\n",
      "prices and the demand for clean air', J. Environ. Economics & Management,\n",
      "vol.5, 81-102, 1978.   Used in Belsley, Kuh & Welsch, 'Regression diagnostics\n",
      "...', Wiley, 1980.   N.B. Various transformations are used in the table on\n",
      "pages 244-261 of the latter.\n",
      "\n",
      "The Boston house-price data has been used in many machine learning papers that address regression\n",
      "problems.   \n",
      "     \n",
      "**References**\n",
      "\n",
      "   - Belsley, Kuh & Welsch, 'Regression diagnostics: Identifying Influential Data and Sources of Collinearity', Wiley, 1980. 244-261.\n",
      "   - Quinlan,R. (1993). Combining Instance-Based and Model-Based Learning. In Proceedings on the Tenth International Conference of Machine Learning, 236-243, University of Massachusetts, Amherst. Morgan Kaufmann.\n",
      "   - many more! (see http://archive.ics.uci.edu/ml/datasets/Housing)\n",
      "\n"
     ]
    }
   ],
   "source": [
    "print(bdata.keys())\n",
    "print(bdata.feature_names)\n",
    "print(bdata.data.shape)\n",
    "print(bdata.target.shape)\n",
    "print(bdata.DESCR)"
   ]
  },
  {
   "cell_type": "markdown",
   "metadata": {},
   "source": [
    "---\n",
    "\n",
    "# Descriptive analysis\n",
    "\n",
    "## Histogram of housing prices\n",
    "\n",
    "A very basic histogram of median housing prices (the \"target\" variable) for the dataset.  Your first task is to make this graph look pretty by doing the following:\n"
   ]
  },
  {
   "cell_type": "code",
   "execution_count": 21,
   "metadata": {},
   "outputs": [
    {
     "data": {
      "image/png": "[encoded data removed]",
      "text/plain": [
       "<matplotlib.figure.Figure at 0x109f13940>"
      ]
     },
     "metadata": {},
     "output_type": "display_data"
    }
   ],
   "source": [
    "\n",
    "%matplotlib inline  \n",
    "import matplotlib.pyplot as plt  \n",
    "\n",
    "bdata_arr = np.insert(bdata.data, bdata.data.shape[1], bdata.target, axis = 1)\n",
    "\n",
    "#Change the bin width on the histogram to be $1000\n",
    "#Change the color of the bars to be green, and remove the black borders from the bars\n",
    "plt.hist(bdata_arr[:,13],color=\"red\",edgecolor = \"none\", bins=50)\n",
    "ax = plt.axes()\n",
    "#Remove the axes on the top and right side of the plot window\n",
    "ax.spines['right'].set_color('none')\n",
    "ax.spines['top'].set_color('none')\n",
    "plt.xlabel(\"Median value of owner-occupied homes in $1000's\")\n",
    "plt.ylabel(\"Count\")\n",
    "plt.title('Housing Price Distribution')\n",
    "plt.show()"
   ]
  },
  {
   "cell_type": "markdown",
   "metadata": {},
   "source": [
    "## Scatter plot of housing prices and crime\n",
    "\n",
    "Using matplotlib to create a scatter plot that shows the relationship between the median value of the home (y-axis) and the per-capita crime rate (x-axis). \n"
   ]
  },
  {
   "cell_type": "code",
   "execution_count": 22,
   "metadata": {},
   "outputs": [
    {
     "data": {
      "image/png": "[encoded data removed]",
      "text/plain": [
       "<matplotlib.figure.Figure at 0x11783a240>"
      ]
     },
     "metadata": {},
     "output_type": "display_data"
    }
   ],
   "source": [
    "plt.scatter(bdata_arr[:,0],bdata_arr[:,13],color=\"red\",edgecolor = \"none\")\n",
    "ax = plt.axes()\n",
    "ax.spines['right'].set_color('none')\n",
    "ax.spines['top'].set_color('none')\n",
    "plt.xlabel(\"Per capita crime rate\")\n",
    "plt.ylabel(\"Median value of owner-occupied homes in $1000's\")\n",
    "plt.title(\"Per capita crime rate vs Median value of homes in $1000s\")\n",
    "plt.show()"
   ]
  },
  {
   "cell_type": "markdown",
   "metadata": {},
   "source": [
    "## Scatter plot of housing prices and owner-occupied units\n",
    "\n",
    "Using matplotlib to create a scatter plot that shows the relationship between the median value of the home (y-axis) and the proportion of owner-occupied home units."
   ]
  },
  {
   "cell_type": "code",
   "execution_count": 23,
   "metadata": {},
   "outputs": [
    {
     "data": {
      "image/png": "[encoded data removed]",
      "text/plain": [
       "<matplotlib.figure.Figure at 0x117887588>"
      ]
     },
     "metadata": {},
     "output_type": "display_data"
    }
   ],
   "source": [
    "plt.scatter(bdata_arr[:,6],bdata_arr[:,13],color=\"green\",edgecolor = \"none\")\n",
    "ax = plt.axes()\n",
    "ax.spines['right'].set_color('none')\n",
    "ax.spines['top'].set_color('none')\n",
    "plt.xlabel(\"Proportion of owner-occupied units built prior to 1940\")\n",
    "plt.ylabel(\"Median value of owner-occupied homes\")\n",
    "plt.title(\"Proportion of owner-occupied units vs Median value of homes in $1000s\")\n",
    "plt.show()"
   ]
  },
  {
   "cell_type": "markdown",
   "metadata": {},
   "source": [
    "---\n",
    "\n",
    "## Experimental Setup\n",
    "\n",
    "The goal of the next few sections is to design an experiment to predict the median home value for an instance in the data.\n",
    "\n",
    "First, we write a function to compute the Root Mean Squared Error for a list of numbers"
   ]
  },
  {
   "cell_type": "code",
   "execution_count": 24,
   "metadata": {
    "collapsed": true
   },
   "outputs": [],
   "source": [
    "def compute_rmse(predictions, yvalues):\n",
    "    rmse = np.sqrt(((predictions - yvalues) ** 2).mean())    \n",
    "    return rmse\n",
    "\n",
    "#print (compute_rmse(np.asarray((2,2,3)),np.asarray((0,2,6))))"
   ]
  },
  {
   "cell_type": "markdown",
   "metadata": {},
   "source": [
    "Next, divide the data into training and testing datasets\n",
    "\n",
    "Randomly selecting 66% of the data and putting this in a training dataset (bdata_train), and place the remaining 34% in a testing dataset (bdata_test)\n"
   ]
  },
  {
   "cell_type": "code",
   "execution_count": 25,
   "metadata": {},
   "outputs": [
    {
     "name": "stdout",
     "output_type": "stream",
     "text": [
      "333\n",
      "173\n"
     ]
    }
   ],
   "source": [
    "from sklearn.cross_validation import train_test_split\n",
    "\n",
    "np.random.seed(seed=13579)\n",
    "\n",
    "bdata_train,bdata_test = train_test_split(bdata_arr, test_size=0.34, random_state=13579)\n",
    "\n",
    "print(len(bdata_train))\n",
    "print(len(bdata_test))\n"
   ]
  },
  {
   "cell_type": "markdown",
   "metadata": {},
   "source": [
    "Using a very bad baseline for prediction, we compute RMSE\n",
    "\n",
    "Thus, create a model that predicts, for every observation x_i, that the median home value is the average (mean) of the median values for all instances in the training set. RMSE computed on the training set and testing set. "
   ]
  },
  {
   "cell_type": "code",
   "execution_count": 26,
   "metadata": {},
   "outputs": [
    {
     "name": "stdout",
     "output_type": "stream",
     "text": [
      "Root mean Squared error on the training set is: 9.43\n",
      "Root mean Squared error on the test set is: 8.75\n"
     ]
    }
   ],
   "source": [
    "\n",
    "rmse_train = compute_rmse(np.repeat(bdata_train[:,13].mean(),bdata_train.shape[0]),bdata_train[:,13])\n",
    "\n",
    "rmse_test = compute_rmse(np.repeat(bdata_train[:,13].mean(),bdata_test.shape[0]),bdata_test[:,13])\n",
    "\n",
    "print(\"Root mean Squared error on the training set is:\", np.round(rmse_train,2))\n",
    "print(\"Root mean Squared error on the test set is:\", np.round(rmse_test,2))"
   ]
  },
  {
   "cell_type": "markdown",
   "metadata": {},
   "source": [
    "As the training set is larger as compared to the test set, this may explain the lower RMSE value of the test set. Another expnanation could be that, the model has generalized well, causing the low test RMSE value. Another cause may be selection bias. On the other hand, if the test data RMSE value were higher, it could probably be evidence to the observation that the model has an overfittng issue."
   ]
  },
  {
   "cell_type": "markdown",
   "metadata": {},
   "source": [
    "---\n",
    "\n",
    "## Nearest Neighbors\n"
   ]
  },
  {
   "cell_type": "markdown",
   "metadata": {},
   "source": [
    "## Nearest Neighbors: Distance function\n",
    "Now we try and build a machine learning algorithm to beat the \"Average Value\" baseline that was computed above.  "
   ]
  },
  {
   "cell_type": "code",
   "execution_count": 27,
   "metadata": {},
   "outputs": [],
   "source": [
    "\"\"\"\n",
    "Function\n",
    "--------\n",
    "distance\n",
    "\n",
    "Given two instances and a value for L, return the L-Norm distance between them\n",
    "\n",
    "Parameters\n",
    "----------\n",
    "x1, x2 : array\n",
    "    Array of numerical values corresponding to predictions for each of the N observations\n",
    "\n",
    "L: int\n",
    "    Value of L to use in computing distances\n",
    "\n",
    "Returns\n",
    "-------\n",
    "dist : int\n",
    "    The L-norm distance between instances\n",
    "\n",
    "\"\"\"\n",
    "def distance(x1, x2, L):\n",
    "    x1 = np.asarray(x1)\n",
    "    x2 = np.asarray(x2)\n",
    "    dist_1 = np.power(np.abs(x1-x2),L)\n",
    "    dist = np.power(dist_1.sum(axis=0),float(1)/L)\n",
    "    \n",
    "    return dist\n",
    "\n",
    "#print (distance((3,4),(6,8),2))\n"
   ]
  },
  {
   "cell_type": "markdown",
   "metadata": {},
   "source": [
    "## Basic Nearest Neighbor algorithm\n",
    "\n",
    "Now to implement a basic nearest neighbor algorithm from scratch. I use two input features (CRIM and RM) and a single output (MEDV).  In other words, modelling the relationship between median home value and crime rates and house size.\n",
    "\n",
    "Using the training data (bdata_train) to \"fit\" my model, although as we know, with Nearest Neighbors there is no real training, we just need to keep our training data in memory.  I wrote a function that predicts, for each instance in the testing data (bdata_test), the median home value using the nearest neighbor algorithm.  Since this is a small dataset, I can simply compare my test instance to every instance in the training set, and return the MEDV value of the closest training instance. The function takes L as an input, where L is passed to the distance function.\n",
    "\n",
    "I compute the RMSE for the Nearest Neighbor predictions on the test set, using the Euclidean distance, and report an estimate of the total time taken by my code to predict the nearest neighbors for all the values in the test data set."
   ]
  },
  {
   "cell_type": "code",
   "execution_count": 28,
   "metadata": {},
   "outputs": [
    {
     "name": "stdout",
     "output_type": "stream",
     "text": [
      "Root mean squared error is: 6.68101009981\n",
      "Total time for computation is: 2.18 Seconds\n"
     ]
    }
   ],
   "source": [
    "\"\"\"\n",
    "Implementing the nearest neighbor algorithm\n",
    "\"\"\"\n",
    "# Importing time for calculating function runtime\n",
    "import time\n",
    "import operator\n",
    "\n",
    "def knn_predict(test_data, train_data, L):\n",
    "    # Recording start time of function run\n",
    "    start_time = time.time()\n",
    "    # List to store predicted values\n",
    "    a = []\n",
    "    for i in test_data:\n",
    "        # List to store calculated distances\n",
    "        eu_Distance = []\n",
    "        for j in train_data:\n",
    "            # Calculate the distance\n",
    "            eu_dist = distance(j[:-1],i[:-1],L)\n",
    "            # Append to the list created earlier\n",
    "            eu_Distance.append((j[j.shape[0]-1], eu_dist))\n",
    "            \n",
    "            #Sort the list by distance , so that we can pick the lowest distance\n",
    "            eu_Distance.sort(key = operator.itemgetter(1),reverse = False)  \n",
    "            \n",
    "        # Append the training set value , corresponding to the lowest distance\n",
    "        a.append(eu_Distance[0])\n",
    "    # Convert to array\n",
    "    a = np.array(a)\n",
    "    # Calculate runtime\n",
    "    total_t = float(round(time.time() - start_time,2))\n",
    "    # Return the predicted value, root mean squared error and the time take for run\n",
    "    return a[:,0],compute_rmse(a[:,0],test_data[:,(test_data.shape[1]-1)]),total_t\n",
    "\n",
    "predictions , rmse , time_taken = knn_predict(bdata_test[:,(0,5,13)], bdata_train[:,(0,5,13)],2)\n",
    "\n",
    "print(\"Root mean squared error is:\",rmse)\n",
    "print(\"Total time for computation is:\",time_taken,\"Seconds\")"
   ]
  },
  {
   "cell_type": "markdown",
   "metadata": {},
   "source": [
    "## Results and Normalization\n",
    "\n",
    "I now write a generic normalization function that takes as input an array of values for a given feature, and returns the normalized array (subtract the mean and divide by the standard deviation).\n",
    "\n",
    "Re-run the Nearest Neighbor algorithm on the normalized dataset (still just using CRIM and RM as input), and compare the RMSE from this method with my previous RMSE evaluations.\n"
   ]
  },
  {
   "cell_type": "code",
   "execution_count": 29,
   "metadata": {},
   "outputs": [
    {
     "name": "stdout",
     "output_type": "stream",
     "text": [
      "RMSE after normalization: 6.80097323875\n"
     ]
    }
   ],
   "source": [
    "\"\"\"\n",
    "Normalization of the features in order to scale data in avoid mis-classification\n",
    "\"\"\"\n",
    "def normalize(data):\n",
    "    for j in range(0,(data.shape[1]-1)):\n",
    "        # Finding mean of all independent variables. Excluding our dependant variable column.\n",
    "        mean = data[:,j].mean()\n",
    "        # Finding Standard Deviation of all independent variables. Excluding our dependant variable column.\n",
    "        std = data[:,j].std()\n",
    "        # Normalizing the data\n",
    "        data[:,j] = (data[:,j]-mean)/std\n",
    "    return data\n",
    "\n",
    "predictions , rmse , time_taken = knn_predict(normalize(bdata_test[:,(0,5,13)]), normalize(bdata_train[:,(0,5,13)]),2)\n",
    "print(\"RMSE after normalization:\",rmse)"
   ]
  },
  {
   "cell_type": "markdown",
   "metadata": {},
   "source": [
    "After normalization, we get a RMSE value of 6.8, which is higher than the RMSE of 6.68 without normalization.Although the RMSE with normalization is greater than that of the basic model without normalization, the benefit of using normalization is that no one parameter can dominate the distance calculation and hence control the prediction because the parameter is in a different scale compare to others i.e., this value is more accurate as it ensures that features with higher scales do not dominate the distance calculations."
   ]
  },
  {
   "cell_type": "markdown",
   "metadata": {},
   "source": [
    "## Optimization\n",
    "\n",
    "A lot of the decisions we've made so far have been arbitrary.  I try to increase the performance of the nearest neighbor algorithm by adding features that I think might be relevant, and by using different values of L in the distance function. "
   ]
  },
  {
   "cell_type": "code",
   "execution_count": 30,
   "metadata": {},
   "outputs": [
    {
     "name": "stdout",
     "output_type": "stream",
     "text": [
      "RMSE of Model: 6.78160125685\n",
      "Run Time: 2.51\n",
      "RMSE of Model: 6.4637852866\n",
      "Run Time: 2.41\n",
      "RMSE of Model: 3.66573731435\n",
      "Run Time: 2.28\n"
     ]
    }
   ],
   "source": [
    "'''\n",
    "Using the following features:\n",
    "5 - RM       average number of rooms per dwelling\n",
    "6 - AGE      proportion of owner-occupied units built prior to 1940\n",
    "11 - B        1000(Bk - 0.63)^2 where Bk is the proportion of blacks by town\n",
    "9 - TAX      full-value property-tax rate per $10,000\n",
    "3 - CHAS     Charles River dummy variable (= 1 if tract bounds river; 0 otherwise)\n",
    "4 - NOX      nitric oxides concentration (parts per 10 million)\n",
    "10- PTRATIO  pupil-teacher ratio by town\n",
    "12- LSTAT    % lower status of the population\n",
    "'''\n",
    "predictions , rmse , time_taken = knn_predict(normalize(bdata_test[:,(0,5,13)]), normalize(bdata_train[:,(0,5,13)]),3)\n",
    "print(\"RMSE of Model:\",rmse)\n",
    "print(\"Run Time:\", time_taken)\n",
    "\n",
    "predictions , rmse , time_taken = knn_predict(normalize(bdata_test[:,(10,12,13)]), normalize(bdata_train[:,(10,12,13)]),4)\n",
    "print(\"RMSE of Model:\",rmse)\n",
    "print(\"Run Time:\", time_taken)\n",
    "\n",
    "predictions , rmse , time_taken = knn_predict(normalize(bdata_test[:,(0,5,10,12,13)]), normalize(bdata_train[:,(0,5,10,12,13)]),2)\n",
    "print(\"RMSE of Model:\",rmse)\n",
    "print(\"Run Time:\", time_taken)"
   ]
  },
  {
   "cell_type": "markdown",
   "metadata": {},
   "source": [
    "Using the features CRIM,RM,PTRATIO,LSTAT and MEDV using a distance (L-value) of 2, gives us the lowest RMSE value. Although the running of any of the three combinations, didn't particularly affect the run time of the model. "
   ]
  },
  {
   "cell_type": "markdown",
   "metadata": {},
   "source": [
    "## Cross-Validation\n",
    "\n",
    "The more we tinkered with our features and distance function, the higher the risk that we overfit our training data.  To prevent this sort of overfitting, you need to use cross-validation.  \n",
    "\n",
    "Here we implement a simple k-fold cross-validation algorithm. \n",
    "\n",
    "Using 10-fold cross-validation we report the average RMSE for Nearest Neighbors using Euclidean distance with CRIM and RM input features, as well as the total running time for the full run of 10 folds.  In other words, we randomly divide our dataset into 10 equally-sized samples, and for each of 10 iterations (the \"folds\"), use 9 samples as \"training data\" (even though there is no training in k-NN!), and the remaining 1 sample for testing.  Computing the RMSE of that particular test set, then move on to the next iteration.  I then report the average RMSE across the 10 iterations."
   ]
  },
  {
   "cell_type": "code",
   "execution_count": 31,
   "metadata": {},
   "outputs": [
    {
     "name": "stdout",
     "output_type": "stream",
     "text": [
      "Root mean squared error after cross-validation: 6.42725205407\n",
      "Time taken to run cross-validation: 10.59 seconds\n"
     ]
    }
   ],
   "source": [
    "def kfold(data,L,s,k):\n",
    "    # Shuffling the data before running cross validation, to remove any underlying time-series patterns in data if present.\n",
    "    np.random.seed(seed=13579)\n",
    "    np.random.shuffle(data)\n",
    "    # Variable to initialize rmse value\n",
    "    rmse = 0\n",
    "    # Variable to calculate run time of algorithm\n",
    "    t_total = 0\n",
    "    for i in range(10):\n",
    "        # Assign 10 percent of the data to test set\n",
    "        test = data[(range(int(float(i)/10*data.shape[0]),int((float(i+1)/10)*data.shape[0]))),:]\n",
    "        # Assign the rest 90% of the data to train set\n",
    "        train = np.delete(data,(range(int(float(i)/10*data.shape[0]),int((float(i+1)/10)*data.shape[0]))), axis=0)\n",
    "        if s=='knn':\n",
    "            p,r,t = knn(normalize(test[:,:]), normalize(train[:,:]),2,k)\n",
    "        if s=='nn':\n",
    "            p,r,t = knn_predict(normalize(test[:,:]), normalize(train[:,:]),2)\n",
    "        rmse += r\n",
    "        t_total += t\n",
    "    return (rmse/10),t_total\n",
    "\n",
    "rmse,t_final = kfold(bdata_arr[:,(0,5,13)],2,'nn',3)\n",
    "print('Root mean squared error after cross-validation:',rmse)\n",
    "print('Time taken to run cross-validation:',t_final,\"seconds\")"
   ]
  },
  {
   "cell_type": "markdown",
   "metadata": {},
   "source": [
    "## K-Nearest Neighbors Algorithm\n",
    "\n",
    "Implement the K-Nearest Neighbors algorithm.  Using 10-fold cross validation, we report the RMSE for K=3 and the running time of the algorithm."
   ]
  },
  {
   "cell_type": "code",
   "execution_count": 32,
   "metadata": {},
   "outputs": [
    {
     "name": "stdout",
     "output_type": "stream",
     "text": [
      "Root mean squared error using 10-fold cross-validation and k=3 is: 5.88061503344\n",
      "Total time for running the algorithm is: 12.110000000000001 seconds\n"
     ]
    }
   ],
   "source": [
    "\"\"\"\n",
    "\"\"\"\n",
    "import time\n",
    "def knn(test_data, train_data, L,k):\n",
    "    # Recording start time of function run\n",
    "    start_time = time.time()\n",
    "    # List to store predicted values\n",
    "    a = []\n",
    "    for i in test_data:\n",
    "        # List to store calculated distances\n",
    "        eu_Distance = []\n",
    "        for j in train_data:\n",
    "            # Calculate the distance\n",
    "            eu_dist = distance(j[:-1],i[:-1],L)\n",
    "            # Append to the list created earlier\n",
    "            eu_Distance.append((j[j.shape[0]-1], eu_dist))\n",
    "            # Sort the list by distance , so that we can pick the lowest distance\n",
    "            eu_Distance.sort(key = operator.itemgetter(1),reverse = False)\n",
    "            # Append the training set value , corresponding to the lowest distance\n",
    "        a.append(np.mean(eu_Distance[0:k],axis = 0))\n",
    "    # Convert to array\n",
    "    a = np.array(a)\n",
    "    # Calculate runtime\n",
    "    total_t = float(round(time.time() - start_time,2))\n",
    "    # Return the predicted value, root mean squared error and the time take for run\n",
    "    return a[:,0],compute_rmse(test_data[:,(test_data.shape[1]-1)],a[:,0]),total_t\n",
    "\n",
    "r,t = kfold(bdata_arr[:,(0,5,13)],2,'knn',3)\n",
    "print(\"Root mean squared error using 10-fold cross-validation and k=3 is:\",r)\n",
    "print(\"Total time for running the algorithm is:\",t,\"seconds\")"
   ]
  },
  {
   "cell_type": "markdown",
   "metadata": {},
   "source": [
    "## Using cross validation to find K\n",
    "\n",
    "What is the best choice of K?  We compute the RMSE for values of K between 1 and 25 using 10-fold cross-validation.  Use the following features in our model, and after normalization: CRIM, ZN, RM, AGE, DIS, TAX.  We create a graph that shows how RMSE changes as K increases from 1 to 25. "
   ]
  },
  {
   "cell_type": "code",
   "execution_count": 33,
   "metadata": {},
   "outputs": [
    {
     "data": {
      "text/plain": [
       "[<matplotlib.lines.Line2D at 0x117737d30>]"
      ]
     },
     "execution_count": 33,
     "metadata": {},
     "output_type": "execute_result"
    },
    {
     "data": {
      "image/png": "[encoded data removed]",
      "text/plain": [
       "<matplotlib.figure.Figure at 0x1179ee128>"
      ]
     },
     "metadata": {},
     "output_type": "display_data"
    }
   ],
   "source": [
    "'''\n",
    "Using the features:\n",
    "CRIM - 0\n",
    "ZN - 1\n",
    "RM - 5\n",
    "AGE - 6\n",
    "DIS - 7\n",
    "TAX - 9\n",
    "'''\n",
    "\n",
    "arr_rmse = []\n",
    "k = 1\n",
    "for i in range(1,26):\n",
    "    rmse,t = kfold(normalize(bdata_arr[:,(0,1,5,6,7,9,13)]),2,'knn',i)\n",
    "    arr_rmse.append((k,rmse))\n",
    "    k += 1   \n",
    "\n",
    "arr_rmse = np.asarray(arr_rmse)\n",
    "\n",
    "plt.plot(arr_rmse[:,0],arr_rmse[:,1])"
   ]
  },
  {
   "cell_type": "markdown",
   "metadata": {},
   "source": [
    "Based on the plot above, the most reasonable choice of K is 4 for this model, as it gives us the lowest RMSE value."
   ]
  }
 ],
 "metadata": {
  "kernelspec": {
   "display_name": "Python 3",
   "language": "python",
   "name": "python3"
  },
  "language_info": {
   "codemirror_mode": {
    "name": "ipython",
    "version": 3
   },
   "file_extension": ".py",
   "mimetype": "text/x-python",
   "name": "python",
   "nbconvert_exporter": "python",
   "pygments_lexer": "ipython3",
   "version": "3.6.0"
  }
 },
 "nbformat": 4,
 "nbformat_minor": 1
}
